{
 "cells": [
  {
   "cell_type": "code",
   "execution_count": 2,
   "metadata": {},
   "outputs": [],
   "source": [
    "import glob\n",
    "import re\n",
    "import pandas as pd\n",
    "import numpy as np\n",
    "import matplotlib.pyplot as plt"
   ]
  },
  {
   "cell_type": "markdown",
   "metadata": {},
   "source": [
    "# Part#1\n",
    "\n",
    "Q# How to clean data with python?\n",
    "Cleaning US Census Data - You just got hired as a Data Analyst at the Census Bureau, which collects census data and creates interesting visualizations and insights from it.\n",
    "\n",
    "The person who had your job before you left you all the data they had for the most recent census. It is in multiple csv files. They didn’t use pandas, they would just look through these csv files manually whenever they wanted to find something. Sometimes they would copy and paste certain numbers into Excel to make charts.\n",
    "\n",
    "The thought of it makes you shiver. This is not scalable or repeatable.\n",
    "\n",
    "Your boss wants you to make some scatterplots and histograms by the end of the day. Can you get this data into pandas and into reasonable shape so that you can make these histograms?"
   ]
  },
  {
   "cell_type": "markdown",
   "metadata": {},
   "source": [
    "1.\n",
    "The first visualization your boss wants you to make is a scatterplot that shows average income in a state vs proportion of women in that state.\n",
    "\n",
    "Open some of the census csv files in the navigator. How are they named? What kind of information do they hold? Will they help us make this graph?"
   ]
  },
  {
   "cell_type": "markdown",
   "metadata": {},
   "source": [
    "#### State0"
   ]
  },
  {
   "cell_type": "code",
   "execution_count": 3,
   "metadata": {},
   "outputs": [
    {
     "data": {
      "text/html": [
       "<div>\n",
       "<style scoped>\n",
       "    .dataframe tbody tr th:only-of-type {\n",
       "        vertical-align: middle;\n",
       "    }\n",
       "\n",
       "    .dataframe tbody tr th {\n",
       "        vertical-align: top;\n",
       "    }\n",
       "\n",
       "    .dataframe thead th {\n",
       "        text-align: right;\n",
       "    }\n",
       "</style>\n",
       "<table border=\"1\" class=\"dataframe\">\n",
       "  <thead>\n",
       "    <tr style=\"text-align: right;\">\n",
       "      <th></th>\n",
       "      <th>State</th>\n",
       "      <th>TotalPop</th>\n",
       "      <th>Hispanic</th>\n",
       "      <th>White</th>\n",
       "      <th>Black</th>\n",
       "      <th>Native</th>\n",
       "      <th>Asian</th>\n",
       "      <th>Pacific</th>\n",
       "      <th>Income</th>\n",
       "      <th>GenderPop</th>\n",
       "    </tr>\n",
       "  </thead>\n",
       "  <tbody>\n",
       "    <tr>\n",
       "      <th>0</th>\n",
       "      <td>Alabama</td>\n",
       "      <td>4830620</td>\n",
       "      <td>3.7516156462584975%</td>\n",
       "      <td>61.878656462585%</td>\n",
       "      <td>31.25297619047618%</td>\n",
       "      <td>0.4532312925170065%</td>\n",
       "      <td>1.0502551020408146%</td>\n",
       "      <td>0.03435374149659865%</td>\n",
       "      <td>$43296.35860306644</td>\n",
       "      <td>2341093M_2489527F</td>\n",
       "    </tr>\n",
       "    <tr>\n",
       "      <th>1</th>\n",
       "      <td>Alaska</td>\n",
       "      <td>733375</td>\n",
       "      <td>5.909580838323351%</td>\n",
       "      <td>60.910179640718574%</td>\n",
       "      <td>2.8485029940119775%</td>\n",
       "      <td>16.39101796407186%</td>\n",
       "      <td>5.450299401197604%</td>\n",
       "      <td>1.0586826347305378%</td>\n",
       "      <td>$70354.74390243902</td>\n",
       "      <td>384160M_349215F</td>\n",
       "    </tr>\n",
       "    <tr>\n",
       "      <th>2</th>\n",
       "      <td>Arizona</td>\n",
       "      <td>6641928</td>\n",
       "      <td>29.565921052631502%</td>\n",
       "      <td>57.120000000000026%</td>\n",
       "      <td>3.8509868421052658%</td>\n",
       "      <td>4.35506578947368%</td>\n",
       "      <td>2.876578947368419%</td>\n",
       "      <td>0.16763157894736833%</td>\n",
       "      <td>$54207.82095490716</td>\n",
       "      <td>3299088M_3342840F</td>\n",
       "    </tr>\n",
       "    <tr>\n",
       "      <th>3</th>\n",
       "      <td>Arkansas</td>\n",
       "      <td>2958208</td>\n",
       "      <td>6.215474452554738%</td>\n",
       "      <td>71.13781021897813%</td>\n",
       "      <td>18.968759124087573%</td>\n",
       "      <td>0.5229197080291965%</td>\n",
       "      <td>1.1423357664233578%</td>\n",
       "      <td>0.14686131386861315%</td>\n",
       "      <td>$41935.63396778917</td>\n",
       "      <td>1451913M_1506295F</td>\n",
       "    </tr>\n",
       "    <tr>\n",
       "      <th>4</th>\n",
       "      <td>California</td>\n",
       "      <td>38421464</td>\n",
       "      <td>37.291874687968054%</td>\n",
       "      <td>40.21578881677474%</td>\n",
       "      <td>5.677396405391911%</td>\n",
       "      <td>0.40529206190713685%</td>\n",
       "      <td>13.052234148776776%</td>\n",
       "      <td>0.35141038442336353%</td>\n",
       "      <td>$67264.78230266465</td>\n",
       "      <td>19087135M_19334329F</td>\n",
       "    </tr>\n",
       "    <tr>\n",
       "      <th>5</th>\n",
       "      <td>Colorado</td>\n",
       "      <td>5278906</td>\n",
       "      <td>20.78438003220608%</td>\n",
       "      <td>69.89557165861504%</td>\n",
       "      <td>3.546376811594201%</td>\n",
       "      <td>0.5738325281803548%</td>\n",
       "      <td>2.661996779388082%</td>\n",
       "      <td>NaN</td>\n",
       "      <td>$64657.801787164906</td>\n",
       "      <td>2648667M_2630239F</td>\n",
       "    </tr>\n",
       "  </tbody>\n",
       "</table>\n",
       "</div>"
      ],
      "text/plain": [
       "        State  TotalPop             Hispanic                White  \\\n",
       "0     Alabama   4830620  3.7516156462584975%     61.878656462585%   \n",
       "1      Alaska    733375   5.909580838323351%  60.910179640718574%   \n",
       "2     Arizona   6641928  29.565921052631502%  57.120000000000026%   \n",
       "3    Arkansas   2958208   6.215474452554738%   71.13781021897813%   \n",
       "4  California  38421464  37.291874687968054%   40.21578881677474%   \n",
       "5    Colorado   5278906   20.78438003220608%   69.89557165861504%   \n",
       "\n",
       "                 Black                Native                Asian  \\\n",
       "0   31.25297619047618%   0.4532312925170065%  1.0502551020408146%   \n",
       "1  2.8485029940119775%    16.39101796407186%   5.450299401197604%   \n",
       "2  3.8509868421052658%     4.35506578947368%   2.876578947368419%   \n",
       "3  18.968759124087573%   0.5229197080291965%  1.1423357664233578%   \n",
       "4   5.677396405391911%  0.40529206190713685%  13.052234148776776%   \n",
       "5   3.546376811594201%   0.5738325281803548%   2.661996779388082%   \n",
       "\n",
       "                Pacific               Income            GenderPop  \n",
       "0  0.03435374149659865%   $43296.35860306644    2341093M_2489527F  \n",
       "1   1.0586826347305378%   $70354.74390243902      384160M_349215F  \n",
       "2  0.16763157894736833%   $54207.82095490716    3299088M_3342840F  \n",
       "3  0.14686131386861315%   $41935.63396778917    1451913M_1506295F  \n",
       "4  0.35141038442336353%   $67264.78230266465  19087135M_19334329F  \n",
       "5                   NaN  $64657.801787164906    2648667M_2630239F  "
      ]
     },
     "execution_count": 3,
     "metadata": {},
     "output_type": "execute_result"
    }
   ],
   "source": [
    "# reading csv from dataset\n",
    "state0 = pd.read_csv('dataset/states0.csv', encoding='utf-8', index_col=0)\n",
    "state0"
   ]
  },
  {
   "cell_type": "code",
   "execution_count": 4,
   "metadata": {},
   "outputs": [
    {
     "data": {
      "text/plain": [
       "<AxesSubplot:xlabel='FemalePop', ylabel='Income'>"
      ]
     },
     "execution_count": 4,
     "metadata": {},
     "output_type": "execute_result"
    },
    {
     "data": {
      "image/png": "[encoded data removed]",
      "text/plain": [
       "<Figure size 432x288 with 1 Axes>"
      ]
     },
     "metadata": {
      "needs_background": "light"
     },
     "output_type": "display_data"
    }
   ],
   "source": [
    "# population splitting w.r.t male and female\n",
    "state0[['MalePop', 'FemalePop']] = state0['GenderPop'].str.split('_',expand=True)\n",
    "\n",
    "# replacing 'str' characters\n",
    "state0 = state0.replace({'Income': {'\\$': ''},'MalePop': {'M': ''},'FemalePop': {'F': ''}}, regex=True)\n",
    "\n",
    "# changing data type\n",
    "state0[['Income', 'MalePop', 'FemalePop']] = state0[['Income', 'MalePop', 'FemalePop']].apply(pd.to_numeric)\n",
    "state0\n",
    "\n",
    "# average income vs female population\n",
    "state0.plot.scatter('FemalePop', 'Income')"
   ]
  },
  {
   "cell_type": "markdown",
   "metadata": {},
   "source": [
    "#### state1"
   ]
  },
  {
   "cell_type": "code",
   "execution_count": 6,
   "metadata": {},
   "outputs": [
    {
     "data": {
      "text/html": [
       "<div>\n",
       "<style scoped>\n",
       "    .dataframe tbody tr th:only-of-type {\n",
       "        vertical-align: middle;\n",
       "    }\n",
       "\n",
       "    .dataframe tbody tr th {\n",
       "        vertical-align: top;\n",
       "    }\n",
       "\n",
       "    .dataframe thead th {\n",
       "        text-align: right;\n",
       "    }\n",
       "</style>\n",
       "<table border=\"1\" class=\"dataframe\">\n",
       "  <thead>\n",
       "    <tr style=\"text-align: right;\">\n",
       "      <th></th>\n",
       "      <th>State</th>\n",
       "      <th>TotalPop</th>\n",
       "      <th>Hispanic</th>\n",
       "      <th>White</th>\n",
       "      <th>Black</th>\n",
       "      <th>Native</th>\n",
       "      <th>Asian</th>\n",
       "      <th>Pacific</th>\n",
       "      <th>Income</th>\n",
       "      <th>GenderPop</th>\n",
       "    </tr>\n",
       "  </thead>\n",
       "  <tbody>\n",
       "    <tr>\n",
       "      <th>0</th>\n",
       "      <td>Colorado</td>\n",
       "      <td>5278906</td>\n",
       "      <td>20.78438003220608%</td>\n",
       "      <td>69.89557165861504%</td>\n",
       "      <td>3.546376811594201%</td>\n",
       "      <td>0.5738325281803548%</td>\n",
       "      <td>2.661996779388082%</td>\n",
       "      <td>NaN</td>\n",
       "      <td>$64657.801787164906</td>\n",
       "      <td>2648667M_2630239F</td>\n",
       "    </tr>\n",
       "    <tr>\n",
       "      <th>1</th>\n",
       "      <td>Connecticut</td>\n",
       "      <td>3593222</td>\n",
       "      <td>15.604830917874388%</td>\n",
       "      <td>67.6770531400966%</td>\n",
       "      <td>10.34806763285027%</td>\n",
       "      <td>0.12620772946859898%</td>\n",
       "      <td>4.021980676328502%</td>\n",
       "      <td>0.018599033816425123%</td>\n",
       "      <td>$76146.5605875153</td>\n",
       "      <td>1751607M_1841615F</td>\n",
       "    </tr>\n",
       "    <tr>\n",
       "      <th>2</th>\n",
       "      <td>Delaware</td>\n",
       "      <td>926454</td>\n",
       "      <td>8.82476635514019%</td>\n",
       "      <td>64.63271028037383%</td>\n",
       "      <td>20.743925233644834%</td>\n",
       "      <td>0.25981308411214965%</td>\n",
       "      <td>3.2686915887850483%</td>\n",
       "      <td>NaN</td>\n",
       "      <td>$61827.97663551402</td>\n",
       "      <td>448413M_478041F</td>\n",
       "    </tr>\n",
       "    <tr>\n",
       "      <th>3</th>\n",
       "      <td>District of Columbia</td>\n",
       "      <td>647484</td>\n",
       "      <td>9.165921787709499%</td>\n",
       "      <td>33.103910614525134%</td>\n",
       "      <td>51.77653631284915%</td>\n",
       "      <td>0.20055865921787713%</td>\n",
       "      <td>3.3832402234636865%</td>\n",
       "      <td>0.029608938547486034%</td>\n",
       "      <td>$75466.36363636363</td>\n",
       "      <td>306674M_340810F</td>\n",
       "    </tr>\n",
       "    <tr>\n",
       "      <th>4</th>\n",
       "      <td>Florida</td>\n",
       "      <td>19645772</td>\n",
       "      <td>21.3385426653884%</td>\n",
       "      <td>59.08374880153398%</td>\n",
       "      <td>15.165675934803444%</td>\n",
       "      <td>0.2104506232023015%</td>\n",
       "      <td>2.2831735378715257%</td>\n",
       "      <td>0.05151006711409391%</td>\n",
       "      <td>$50690.194986743794</td>\n",
       "      <td>9600009M_10045763F</td>\n",
       "    </tr>\n",
       "    <tr>\n",
       "      <th>5</th>\n",
       "      <td>Georgia</td>\n",
       "      <td>10006693</td>\n",
       "      <td>8.418242207460397%</td>\n",
       "      <td>54.28630556974962%</td>\n",
       "      <td>32.08829841594277%</td>\n",
       "      <td>0.18758303525804798%</td>\n",
       "      <td>3.0976494634644895%</td>\n",
       "      <td>0.046601941747572824%</td>\n",
       "      <td>$50811.08205128205</td>\n",
       "      <td>4883331M_5123362F</td>\n",
       "    </tr>\n",
       "  </tbody>\n",
       "</table>\n",
       "</div>"
      ],
      "text/plain": [
       "                  State  TotalPop             Hispanic                White  \\\n",
       "0              Colorado   5278906   20.78438003220608%   69.89557165861504%   \n",
       "1           Connecticut   3593222  15.604830917874388%    67.6770531400966%   \n",
       "2              Delaware    926454    8.82476635514019%   64.63271028037383%   \n",
       "3  District of Columbia    647484   9.165921787709499%  33.103910614525134%   \n",
       "4               Florida  19645772    21.3385426653884%   59.08374880153398%   \n",
       "5               Georgia  10006693   8.418242207460397%   54.28630556974962%   \n",
       "\n",
       "                 Black                Native                Asian  \\\n",
       "0   3.546376811594201%   0.5738325281803548%   2.661996779388082%   \n",
       "1   10.34806763285027%  0.12620772946859898%   4.021980676328502%   \n",
       "2  20.743925233644834%  0.25981308411214965%  3.2686915887850483%   \n",
       "3   51.77653631284915%  0.20055865921787713%  3.3832402234636865%   \n",
       "4  15.165675934803444%   0.2104506232023015%  2.2831735378715257%   \n",
       "5   32.08829841594277%  0.18758303525804798%  3.0976494634644895%   \n",
       "\n",
       "                 Pacific               Income           GenderPop  \n",
       "0                    NaN  $64657.801787164906   2648667M_2630239F  \n",
       "1  0.018599033816425123%    $76146.5605875153   1751607M_1841615F  \n",
       "2                    NaN   $61827.97663551402     448413M_478041F  \n",
       "3  0.029608938547486034%   $75466.36363636363     306674M_340810F  \n",
       "4   0.05151006711409391%  $50690.194986743794  9600009M_10045763F  \n",
       "5  0.046601941747572824%   $50811.08205128205   4883331M_5123362F  "
      ]
     },
     "execution_count": 6,
     "metadata": {},
     "output_type": "execute_result"
    }
   ],
   "source": [
    "# reading csv from dataset\n",
    "state1 = pd.read_csv('dataset/states1.csv', encoding='utf-8', index_col=0)\n",
    "state1"
   ]
  },
  {
   "cell_type": "code",
   "execution_count": 5,
   "metadata": {},
   "outputs": [
    {
     "data": {
      "text/plain": [
       "<AxesSubplot:xlabel='FemalePop', ylabel='Income'>"
      ]
     },
     "execution_count": 5,
     "metadata": {},
     "output_type": "execute_result"
    },
    {
     "data": {
      "image/png": "[encoded data removed]",
      "text/plain": [
       "<Figure size 432x288 with 1 Axes>"
      ]
     },
     "metadata": {
      "needs_background": "light"
     },
     "output_type": "display_data"
    }
   ],
   "source": [
    "# population splitting w.r.t male and female\n",
    "state1[['MalePop', 'FemalePop']] = state1['GenderPop'].str.split('_',expand=True)\n",
    "\n",
    "# replacing 'str' characters\n",
    "state1 = state1.replace({'Income': {'\\$': ''},\n",
    "                         'MalePop': {'M': ''},\n",
    "                         'FemalePop': {'F': ''}}, regex=True)\n",
    "\n",
    "# changing data type\n",
    "state1[['Income', 'MalePop', 'FemalePop']] = state1[['Income', 'MalePop', 'FemalePop']].apply(pd.to_numeric)\n",
    "state1\n",
    "\n",
    "# average income vs female population in the state\n",
    "state1.plot.scatter('FemalePop', 'Income')"
   ]
  },
  {
   "cell_type": "markdown",
   "metadata": {},
   "source": [
    "2.\n",
    "It will be easier to inspect this data once we have it in a DataFrame. You can’t even call .head() on these csvs! How are you supposed to read them?\n",
    "\n",
    "Using glob, loop through the census files available and load them into DataFrames. Then, concatenate all of those DataFrames together into one DataFrame, called something like us_census."
   ]
  },
  {
   "cell_type": "code",
   "execution_count": 7,
   "metadata": {},
   "outputs": [],
   "source": [
    "# importing all states files\n",
    "all_files = glob.glob(\"dataset/states?.csv\")\n",
    "us_census = pd.concat((pd.read_csv(f, encoding='utf-8', index_col=0) for f in all_files),\n",
    "                      ignore_index=True)"
   ]
  },
  {
   "cell_type": "markdown",
   "metadata": {},
   "source": [
    "3.\n",
    "Look at the .columns and the .dtypes of the us_census DataFrame. Are those datatypes going to hinder you as you try to make histograms?"
   ]
  },
  {
   "cell_type": "code",
   "execution_count": 8,
   "metadata": {},
   "outputs": [
    {
     "data": {
      "text/plain": [
       "Index(['State', 'TotalPop', 'Hispanic', 'White', 'Black', 'Native', 'Asian',\n",
       "       'Pacific', 'Income', 'GenderPop'],\n",
       "      dtype='object')"
      ]
     },
     "metadata": {},
     "output_type": "display_data"
    },
    {
     "data": {
      "text/plain": [
       "State        object\n",
       "TotalPop      int64\n",
       "Hispanic     object\n",
       "White        object\n",
       "Black        object\n",
       "Native       object\n",
       "Asian        object\n",
       "Pacific      object\n",
       "Income       object\n",
       "GenderPop    object\n",
       "dtype: object"
      ]
     },
     "metadata": {},
     "output_type": "display_data"
    }
   ],
   "source": [
    "# column names\n",
    "display(us_census.columns)\n",
    "\n",
    "# columns datatype\n",
    "display(us_census.dtypes)"
   ]
  },
  {
   "cell_type": "markdown",
   "metadata": {},
   "source": [
    "4.\n",
    "Look at the .head() of the DataFrame so that you can understand why some of these dtypes are objects instead of integers or floats.\n",
    "\n",
    "Start to make a plan for how to convert these columns into the right types for manipulation."
   ]
  },
  {
   "cell_type": "code",
   "execution_count": 12,
   "metadata": {},
   "outputs": [
    {
     "data": {
      "text/html": [
       "<div>\n",
       "<style scoped>\n",
       "    .dataframe tbody tr th:only-of-type {\n",
       "        vertical-align: middle;\n",
       "    }\n",
       "\n",
       "    .dataframe tbody tr th {\n",
       "        vertical-align: top;\n",
       "    }\n",
       "\n",
       "    .dataframe thead th {\n",
       "        text-align: right;\n",
       "    }\n",
       "</style>\n",
       "<table border=\"1\" class=\"dataframe\">\n",
       "  <thead>\n",
       "    <tr style=\"text-align: right;\">\n",
       "      <th></th>\n",
       "      <th>State</th>\n",
       "      <th>TotalPop</th>\n",
       "      <th>Hispanic</th>\n",
       "      <th>White</th>\n",
       "      <th>Black</th>\n",
       "      <th>Native</th>\n",
       "      <th>Asian</th>\n",
       "      <th>Pacific</th>\n",
       "      <th>Income</th>\n",
       "      <th>GenderPop</th>\n",
       "      <th>MalePop</th>\n",
       "      <th>FemalePop</th>\n",
       "    </tr>\n",
       "  </thead>\n",
       "  <tbody>\n",
       "    <tr>\n",
       "      <th>0</th>\n",
       "      <td>Colorado</td>\n",
       "      <td>5278906</td>\n",
       "      <td>20.78438003220608%</td>\n",
       "      <td>69.89557165861504%</td>\n",
       "      <td>3.546376811594201%</td>\n",
       "      <td>0.5738325281803548%</td>\n",
       "      <td>2.661996779388082%</td>\n",
       "      <td>NaN</td>\n",
       "      <td>64657.801787</td>\n",
       "      <td>2648667M_2630239F</td>\n",
       "      <td>2648667M</td>\n",
       "      <td>2630239F</td>\n",
       "    </tr>\n",
       "    <tr>\n",
       "      <th>1</th>\n",
       "      <td>Connecticut</td>\n",
       "      <td>3593222</td>\n",
       "      <td>15.604830917874388%</td>\n",
       "      <td>67.6770531400966%</td>\n",
       "      <td>10.34806763285027%</td>\n",
       "      <td>0.12620772946859898%</td>\n",
       "      <td>4.021980676328502%</td>\n",
       "      <td>0.018599033816425123%</td>\n",
       "      <td>76146.560588</td>\n",
       "      <td>1751607M_1841615F</td>\n",
       "      <td>1751607M</td>\n",
       "      <td>1841615F</td>\n",
       "    </tr>\n",
       "    <tr>\n",
       "      <th>2</th>\n",
       "      <td>Delaware</td>\n",
       "      <td>926454</td>\n",
       "      <td>8.82476635514019%</td>\n",
       "      <td>64.63271028037383%</td>\n",
       "      <td>20.743925233644834%</td>\n",
       "      <td>0.25981308411214965%</td>\n",
       "      <td>3.2686915887850483%</td>\n",
       "      <td>NaN</td>\n",
       "      <td>61827.976636</td>\n",
       "      <td>448413M_478041F</td>\n",
       "      <td>448413M</td>\n",
       "      <td>478041F</td>\n",
       "    </tr>\n",
       "    <tr>\n",
       "      <th>3</th>\n",
       "      <td>District of Columbia</td>\n",
       "      <td>647484</td>\n",
       "      <td>9.165921787709499%</td>\n",
       "      <td>33.103910614525134%</td>\n",
       "      <td>51.77653631284915%</td>\n",
       "      <td>0.20055865921787713%</td>\n",
       "      <td>3.3832402234636865%</td>\n",
       "      <td>0.029608938547486034%</td>\n",
       "      <td>75466.363636</td>\n",
       "      <td>306674M_340810F</td>\n",
       "      <td>306674M</td>\n",
       "      <td>340810F</td>\n",
       "    </tr>\n",
       "    <tr>\n",
       "      <th>4</th>\n",
       "      <td>Florida</td>\n",
       "      <td>19645772</td>\n",
       "      <td>21.3385426653884%</td>\n",
       "      <td>59.08374880153398%</td>\n",
       "      <td>15.165675934803444%</td>\n",
       "      <td>0.2104506232023015%</td>\n",
       "      <td>2.2831735378715257%</td>\n",
       "      <td>0.05151006711409391%</td>\n",
       "      <td>50690.194987</td>\n",
       "      <td>9600009M_10045763F</td>\n",
       "      <td>9600009M</td>\n",
       "      <td>10045763F</td>\n",
       "    </tr>\n",
       "  </tbody>\n",
       "</table>\n",
       "</div>"
      ],
      "text/plain": [
       "                  State  TotalPop             Hispanic                White  \\\n",
       "0              Colorado   5278906   20.78438003220608%   69.89557165861504%   \n",
       "1           Connecticut   3593222  15.604830917874388%    67.6770531400966%   \n",
       "2              Delaware    926454    8.82476635514019%   64.63271028037383%   \n",
       "3  District of Columbia    647484   9.165921787709499%  33.103910614525134%   \n",
       "4               Florida  19645772    21.3385426653884%   59.08374880153398%   \n",
       "\n",
       "                 Black                Native                Asian  \\\n",
       "0   3.546376811594201%   0.5738325281803548%   2.661996779388082%   \n",
       "1   10.34806763285027%  0.12620772946859898%   4.021980676328502%   \n",
       "2  20.743925233644834%  0.25981308411214965%  3.2686915887850483%   \n",
       "3   51.77653631284915%  0.20055865921787713%  3.3832402234636865%   \n",
       "4  15.165675934803444%   0.2104506232023015%  2.2831735378715257%   \n",
       "\n",
       "                 Pacific        Income           GenderPop   MalePop  \\\n",
       "0                    NaN  64657.801787   2648667M_2630239F  2648667M   \n",
       "1  0.018599033816425123%  76146.560588   1751607M_1841615F  1751607M   \n",
       "2                    NaN  61827.976636     448413M_478041F   448413M   \n",
       "3  0.029608938547486034%  75466.363636     306674M_340810F   306674M   \n",
       "4   0.05151006711409391%  50690.194987  9600009M_10045763F  9600009M   \n",
       "\n",
       "   FemalePop  \n",
       "0   2630239F  \n",
       "1   1841615F  \n",
       "2    478041F  \n",
       "3    340810F  \n",
       "4  10045763F  "
      ]
     },
     "execution_count": 12,
     "metadata": {},
     "output_type": "execute_result"
    }
   ],
   "source": [
    "us_census.head()"
   ]
  },
  {
   "cell_type": "markdown",
   "metadata": {},
   "source": [
    "5.\n",
    "Use regex to turn the Income column into a format that is ready for conversion into a numerical type."
   ]
  },
  {
   "cell_type": "code",
   "execution_count": 13,
   "metadata": {},
   "outputs": [
    {
     "data": {
      "text/plain": [
       "State         object\n",
       "TotalPop       int64\n",
       "Hispanic      object\n",
       "White         object\n",
       "Black         object\n",
       "Native        object\n",
       "Asian         object\n",
       "Pacific       object\n",
       "Income       float64\n",
       "GenderPop     object\n",
       "MalePop       object\n",
       "FemalePop     object\n",
       "dtype: object"
      ]
     },
     "execution_count": 13,
     "metadata": {},
     "output_type": "execute_result"
    }
   ],
   "source": [
    "# replacing '$' from Income and converting its data type to numerical type\n",
    "us_census['Income'] = us_census['Income'].replace({'\\$':''}, regex = True).apply(pd.to_numeric)\n",
    "us_census.dtypes"
   ]
  },
  {
   "cell_type": "markdown",
   "metadata": {},
   "source": [
    "6.\n",
    "Look at the GenderPop column. We are going to want to separate this into two columns, the Men column, and the Women column.\n",
    "\n",
    "Split the column into those two new columns using str.split and separating out those results."
   ]
  },
  {
   "cell_type": "code",
   "execution_count": 14,
   "metadata": {},
   "outputs": [],
   "source": [
    "# splitting GenderPop column into MalePop and FemalePop columns\n",
    "us_census[['MalePop', 'FemalePop']] = us_census['GenderPop'].str.split('_',expand=True)"
   ]
  },
  {
   "cell_type": "markdown",
   "metadata": {},
   "source": [
    "7.\n",
    "Convert both of the columns into numerical datatypes.\n",
    "\n",
    "There is still an M or an F character in each entry! We should remove those before we convert."
   ]
  },
  {
   "cell_type": "code",
   "execution_count": 15,
   "metadata": {},
   "outputs": [
    {
     "data": {
      "text/plain": [
       "State         object\n",
       "TotalPop       int64\n",
       "Hispanic      object\n",
       "White         object\n",
       "Black         object\n",
       "Native        object\n",
       "Asian         object\n",
       "Pacific       object\n",
       "Income       float64\n",
       "GenderPop     object\n",
       "MalePop        int64\n",
       "FemalePop    float64\n",
       "dtype: object"
      ]
     },
     "execution_count": 15,
     "metadata": {},
     "output_type": "execute_result"
    }
   ],
   "source": [
    "# replacing 'M' and 'F' character with empty string\n",
    "us_census = us_census.replace({'MalePop': {'M': ''},\n",
    "                               'FemalePop': {'F': ''}}, regex=True)\n",
    "\n",
    "# converting the dtype into numeric\n",
    "us_census[['MalePop', 'FemalePop']] = us_census[['MalePop', 'FemalePop']].apply(pd.to_numeric)\n",
    "us_census.dtypes"
   ]
  },
  {
   "cell_type": "markdown",
   "metadata": {},
   "source": [
    "8.\n",
    "Now you should have the columns you need to make the graph and make sure your boss does not slam a ruler angrily on your desk because you’ve wasted your whole day cleaning your data with no results to show!\n",
    "\n",
    "Use matplotlib to make a scatterplot!\n",
    "\n",
    "plt.scatter(the_women_column, the_income_column) Remember to call plt.show() to see the graph!"
   ]
  },
  {
   "cell_type": "code",
   "execution_count": 16,
   "metadata": {},
   "outputs": [
    {
     "data": {
      "image/png": "[encoded data removed]",
      "text/plain": [
       "<Figure size 432x288 with 1 Axes>"
      ]
     },
     "metadata": {
      "needs_background": "light"
     },
     "output_type": "display_data"
    }
   ],
   "source": [
    "# scatter plot with NaN values in 'FemalePop' column\n",
    "the_women_column  = us_census['FemalePop']\n",
    "the_income_column = us_census['Income']\n",
    "\n",
    "plt.xlabel('FemalePop')\n",
    "plt.ylabel('Income')\n",
    "plt.scatter(x=the_women_column, y=the_income_column, c='purple')\n",
    "plt.show()"
   ]
  },
  {
   "cell_type": "markdown",
   "metadata": {},
   "source": [
    "9.\n",
    "Did you get an error? These monstrous csv files probably have nan values in them! Print out your column with the number of women per state to see.\n",
    "\n",
    "We can fill in those nans by using pandas’ .fillna() function.\n",
    "\n",
    "You have the TotalPop per state, and you have the Men per state. As an estimate for the nan values in the Women column, you could use the TotalPop of that state minus the Men for that state.\n",
    "\n",
    "Print out the Women column after filling the nan values to see if it worked!"
   ]
  },
  {
   "cell_type": "code",
   "execution_count": 17,
   "metadata": {},
   "outputs": [
    {
     "data": {
      "text/plain": [
       "3"
      ]
     },
     "execution_count": 17,
     "metadata": {},
     "output_type": "execute_result"
    }
   ],
   "source": [
    "# counting the number of NaN values in FemalePop\n",
    "us_census['FemalePop'].isnull().sum()"
   ]
  },
  {
   "cell_type": "code",
   "execution_count": 18,
   "metadata": {},
   "outputs": [
    {
     "data": {
      "text/plain": [
       "0"
      ]
     },
     "execution_count": 18,
     "metadata": {},
     "output_type": "execute_result"
    }
   ],
   "source": [
    "# taking the estimated women population per state\n",
    "est_women = us_census.TotalPop - us_census.MalePop\n",
    "us_census['FemalePop'].fillna(est_women, inplace=True)\n",
    "\n",
    "# checking if there is still any NaN value in the column\n",
    "us_census['FemalePop'].isnull().sum()"
   ]
  },
  {
   "cell_type": "code",
   "execution_count": 19,
   "metadata": {},
   "outputs": [
    {
     "data": {
      "text/plain": [
       "0      2630239.0\n",
       "1      1841615.0\n",
       "2       478041.0\n",
       "3       340810.0\n",
       "4     10045763.0\n",
       "5      5123362.0\n",
       "6      3057895.0\n",
       "7      3455936.0\n",
       "8      5038598.0\n",
       "9      2727005.0\n",
       "10     1536358.0\n",
       "11     3081445.0\n",
       "12     5913084.0\n",
       "13     1942789.0\n",
       "14     1990780.0\n",
       "15     6534215.0\n",
       "16     1869213.0\n",
       "17      543273.0\n",
       "18     3081445.0\n",
       "19      504536.0\n",
       "20      939759.0\n",
       "21     1390901.0\n",
       "22      670717.0\n",
       "23     4561386.0\n",
       "24     2489527.0\n",
       "25      349215.0\n",
       "26     3342840.0\n",
       "27     1506295.0\n",
       "28    19334329.0\n",
       "29     2630239.0\n",
       "30     5123362.0\n",
       "31      696428.0\n",
       "32      806083.0\n",
       "33     6556862.0\n",
       "34     3333382.0\n",
       "35     1558931.0\n",
       "36     4561386.0\n",
       "37     1051703.0\n",
       "38    10131373.0\n",
       "39     5049925.0\n",
       "40      353677.0\n",
       "41     5913084.0\n",
       "42      543273.0\n",
       "43     2455167.0\n",
       "44      419713.0\n",
       "45     3331859.0\n",
       "46    13367298.0\n",
       "47     1444150.0\n",
       "48     1558931.0\n",
       "49     1453125.0\n",
       "50     2233145.0\n",
       "51     2364097.0\n",
       "52      679019.0\n",
       "53     3057895.0\n",
       "54     1444150.0\n",
       "55      318031.0\n",
       "56     4195682.0\n",
       "57     3497739.0\n",
       "58      937789.0\n",
       "59     2890732.0\n",
       "Name: FemalePop, dtype: float64"
      ]
     },
     "execution_count": 19,
     "metadata": {},
     "output_type": "execute_result"
    }
   ],
   "source": [
    "# displaying FemalePop column after filling NaN values\n",
    "us_census.FemalePop"
   ]
  },
  {
   "cell_type": "markdown",
   "metadata": {},
   "source": [
    "10.\n",
    "We forgot to check for duplicates! Use .duplicated() on your census DataFrame to see if we have duplicate rows in there."
   ]
  },
  {
   "cell_type": "code",
   "execution_count": 20,
   "metadata": {},
   "outputs": [
    {
     "data": {
      "text/plain": [
       "9"
      ]
     },
     "execution_count": 20,
     "metadata": {},
     "output_type": "execute_result"
    }
   ],
   "source": [
    "# number of duplicates in us_census\n",
    "us_census.duplicated().sum()"
   ]
  },
  {
   "cell_type": "code",
   "execution_count": 21,
   "metadata": {},
   "outputs": [
    {
     "data": {
      "text/html": [
       "<div>\n",
       "<style scoped>\n",
       "    .dataframe tbody tr th:only-of-type {\n",
       "        vertical-align: middle;\n",
       "    }\n",
       "\n",
       "    .dataframe tbody tr th {\n",
       "        vertical-align: top;\n",
       "    }\n",
       "\n",
       "    .dataframe thead th {\n",
       "        text-align: right;\n",
       "    }\n",
       "</style>\n",
       "<table border=\"1\" class=\"dataframe\">\n",
       "  <thead>\n",
       "    <tr style=\"text-align: right;\">\n",
       "      <th></th>\n",
       "      <th>State</th>\n",
       "      <th>TotalPop</th>\n",
       "      <th>Hispanic</th>\n",
       "      <th>White</th>\n",
       "      <th>Black</th>\n",
       "      <th>Native</th>\n",
       "      <th>Asian</th>\n",
       "      <th>Pacific</th>\n",
       "      <th>Income</th>\n",
       "      <th>GenderPop</th>\n",
       "      <th>MalePop</th>\n",
       "      <th>FemalePop</th>\n",
       "    </tr>\n",
       "  </thead>\n",
       "  <tbody>\n",
       "    <tr>\n",
       "      <th>18</th>\n",
       "      <td>Missouri</td>\n",
       "      <td>6045448</td>\n",
       "      <td>4.037247838616718%</td>\n",
       "      <td>77.508069164265%</td>\n",
       "      <td>14.122118155619594%</td>\n",
       "      <td>0.36332853025936646%</td>\n",
       "      <td>1.6244956772334296%</td>\n",
       "      <td>0.10165706051873193%</td>\n",
       "      <td>49763.987726</td>\n",
       "      <td>2964003M_3081445F</td>\n",
       "      <td>2964003</td>\n",
       "      <td>3081445.0</td>\n",
       "    </tr>\n",
       "    <tr>\n",
       "      <th>29</th>\n",
       "      <td>Colorado</td>\n",
       "      <td>5278906</td>\n",
       "      <td>20.78438003220608%</td>\n",
       "      <td>69.89557165861504%</td>\n",
       "      <td>3.546376811594201%</td>\n",
       "      <td>0.5738325281803548%</td>\n",
       "      <td>2.661996779388082%</td>\n",
       "      <td>NaN</td>\n",
       "      <td>64657.801787</td>\n",
       "      <td>2648667M_2630239F</td>\n",
       "      <td>2648667</td>\n",
       "      <td>2630239.0</td>\n",
       "    </tr>\n",
       "    <tr>\n",
       "      <th>30</th>\n",
       "      <td>Georgia</td>\n",
       "      <td>10006693</td>\n",
       "      <td>8.418242207460397%</td>\n",
       "      <td>54.28630556974962%</td>\n",
       "      <td>32.08829841594277%</td>\n",
       "      <td>0.18758303525804798%</td>\n",
       "      <td>3.0976494634644895%</td>\n",
       "      <td>0.046601941747572824%</td>\n",
       "      <td>50811.082051</td>\n",
       "      <td>4883331M_5123362F</td>\n",
       "      <td>4883331</td>\n",
       "      <td>5123362.0</td>\n",
       "    </tr>\n",
       "    <tr>\n",
       "      <th>36</th>\n",
       "      <td>New Jersey</td>\n",
       "      <td>8904413</td>\n",
       "      <td>18.74950049950049%</td>\n",
       "      <td>56.488761238761285%</td>\n",
       "      <td>14.387862137862117%</td>\n",
       "      <td>0.11533466533466513%</td>\n",
       "      <td>8.159990009990018%</td>\n",
       "      <td>0.031318681318681325%</td>\n",
       "      <td>76581.083417</td>\n",
       "      <td>4343027M_4561386F</td>\n",
       "      <td>4343027</td>\n",
       "      <td>4561386.0</td>\n",
       "    </tr>\n",
       "    <tr>\n",
       "      <th>41</th>\n",
       "      <td>Ohio</td>\n",
       "      <td>11575977</td>\n",
       "      <td>3.6720843250595037%</td>\n",
       "      <td>75.90306018361096%</td>\n",
       "      <td>16.207276436586163%</td>\n",
       "      <td>0.16888813328799712%</td>\n",
       "      <td>1.6210812648758952%</td>\n",
       "      <td>0.022645358721523304%</td>\n",
       "      <td>49655.248466</td>\n",
       "      <td>5662893M_5913084F</td>\n",
       "      <td>5662893</td>\n",
       "      <td>5913084.0</td>\n",
       "    </tr>\n",
       "    <tr>\n",
       "      <th>42</th>\n",
       "      <td>Rhode Island</td>\n",
       "      <td>1053661</td>\n",
       "      <td>13.356666666666678%</td>\n",
       "      <td>74.32541666666665%</td>\n",
       "      <td>5.68291666666667%</td>\n",
       "      <td>0.3462500000000001%</td>\n",
       "      <td>3.2474999999999983%</td>\n",
       "      <td>0.035833333333333335%</td>\n",
       "      <td>59125.270833</td>\n",
       "      <td>510388M_543273F</td>\n",
       "      <td>510388</td>\n",
       "      <td>543273.0</td>\n",
       "    </tr>\n",
       "    <tr>\n",
       "      <th>48</th>\n",
       "      <td>Iowa</td>\n",
       "      <td>3093526</td>\n",
       "      <td>5.30364520048603%</td>\n",
       "      <td>87.71968408262464%</td>\n",
       "      <td>3.2569866342648868%</td>\n",
       "      <td>0.2897934386391251%</td>\n",
       "      <td>1.699392466585662%</td>\n",
       "      <td>0.055164034021871235%</td>\n",
       "      <td>53017.753041</td>\n",
       "      <td>1534595M_1558931F</td>\n",
       "      <td>1534595</td>\n",
       "      <td>1558931.0</td>\n",
       "    </tr>\n",
       "    <tr>\n",
       "      <th>53</th>\n",
       "      <td>Maryland</td>\n",
       "      <td>5930538</td>\n",
       "      <td>8.47249820014399%</td>\n",
       "      <td>52.679049676026%</td>\n",
       "      <td>30.6777537796976%</td>\n",
       "      <td>0.20309575233981278%</td>\n",
       "      <td>5.325413966882652%</td>\n",
       "      <td>0.03628509719222463%</td>\n",
       "      <td>78765.400725</td>\n",
       "      <td>2872643M_F</td>\n",
       "      <td>2872643</td>\n",
       "      <td>3057895.0</td>\n",
       "    </tr>\n",
       "    <tr>\n",
       "      <th>54</th>\n",
       "      <td>Utah</td>\n",
       "      <td>2903379</td>\n",
       "      <td>13.468376068376063%</td>\n",
       "      <td>79.40683760683764%</td>\n",
       "      <td>1.0179487179487194%</td>\n",
       "      <td>1.0813675213675222%</td>\n",
       "      <td>2.196068376068376%</td>\n",
       "      <td>0.8259829059829059%</td>\n",
       "      <td>63488.917808</td>\n",
       "      <td>1459229M_1444150F</td>\n",
       "      <td>1459229</td>\n",
       "      <td>1444150.0</td>\n",
       "    </tr>\n",
       "  </tbody>\n",
       "</table>\n",
       "</div>"
      ],
      "text/plain": [
       "           State  TotalPop             Hispanic                White  \\\n",
       "18      Missouri   6045448   4.037247838616718%     77.508069164265%   \n",
       "29      Colorado   5278906   20.78438003220608%   69.89557165861504%   \n",
       "30       Georgia  10006693   8.418242207460397%   54.28630556974962%   \n",
       "36    New Jersey   8904413   18.74950049950049%  56.488761238761285%   \n",
       "41          Ohio  11575977  3.6720843250595037%   75.90306018361096%   \n",
       "42  Rhode Island   1053661  13.356666666666678%   74.32541666666665%   \n",
       "48          Iowa   3093526    5.30364520048603%   87.71968408262464%   \n",
       "53      Maryland   5930538    8.47249820014399%     52.679049676026%   \n",
       "54          Utah   2903379  13.468376068376063%   79.40683760683764%   \n",
       "\n",
       "                  Black                Native                Asian  \\\n",
       "18  14.122118155619594%  0.36332853025936646%  1.6244956772334296%   \n",
       "29   3.546376811594201%   0.5738325281803548%   2.661996779388082%   \n",
       "30   32.08829841594277%  0.18758303525804798%  3.0976494634644895%   \n",
       "36  14.387862137862117%  0.11533466533466513%   8.159990009990018%   \n",
       "41  16.207276436586163%  0.16888813328799712%  1.6210812648758952%   \n",
       "42    5.68291666666667%   0.3462500000000001%  3.2474999999999983%   \n",
       "48  3.2569866342648868%   0.2897934386391251%   1.699392466585662%   \n",
       "53    30.6777537796976%  0.20309575233981278%   5.325413966882652%   \n",
       "54  1.0179487179487194%   1.0813675213675222%   2.196068376068376%   \n",
       "\n",
       "                  Pacific        Income          GenderPop  MalePop  FemalePop  \n",
       "18   0.10165706051873193%  49763.987726  2964003M_3081445F  2964003  3081445.0  \n",
       "29                    NaN  64657.801787  2648667M_2630239F  2648667  2630239.0  \n",
       "30  0.046601941747572824%  50811.082051  4883331M_5123362F  4883331  5123362.0  \n",
       "36  0.031318681318681325%  76581.083417  4343027M_4561386F  4343027  4561386.0  \n",
       "41  0.022645358721523304%  49655.248466  5662893M_5913084F  5662893  5913084.0  \n",
       "42  0.035833333333333335%  59125.270833    510388M_543273F   510388   543273.0  \n",
       "48  0.055164034021871235%  53017.753041  1534595M_1558931F  1534595  1558931.0  \n",
       "53   0.03628509719222463%  78765.400725         2872643M_F  2872643  3057895.0  \n",
       "54    0.8259829059829059%  63488.917808  1459229M_1444150F  1459229  1444150.0  "
      ]
     },
     "execution_count": 21,
     "metadata": {},
     "output_type": "execute_result"
    }
   ],
   "source": [
    "# duplicate rows in us_census\n",
    "us_census[us_census.duplicated()]"
   ]
  },
  {
   "cell_type": "markdown",
   "metadata": {},
   "source": [
    "11.\n",
    "Drop those duplicates using the .drop_duplicates() function."
   ]
  },
  {
   "cell_type": "code",
   "execution_count": 22,
   "metadata": {},
   "outputs": [],
   "source": [
    "# dropping duplicates rows in us_census\n",
    "us_census.drop_duplicates(inplace=True)"
   ]
  },
  {
   "cell_type": "code",
   "execution_count": 23,
   "metadata": {},
   "outputs": [
    {
     "data": {
      "text/plain": [
       "0"
      ]
     },
     "execution_count": 23,
     "metadata": {},
     "output_type": "execute_result"
    }
   ],
   "source": [
    "# checking duplicates again\n",
    "us_census.duplicated().sum()"
   ]
  },
  {
   "cell_type": "markdown",
   "metadata": {},
   "source": [
    "12.\n",
    "Make the scatterplot again. Now, it should be perfect! Your job is secure, for now."
   ]
  },
  {
   "cell_type": "code",
   "execution_count": 24,
   "metadata": {},
   "outputs": [
    {
     "data": {
      "image/png": "[encoded data removed]",
      "text/plain": [
       "<Figure size 432x288 with 1 Axes>"
      ]
     },
     "metadata": {
      "needs_background": "light"
     },
     "output_type": "display_data"
    }
   ],
   "source": [
    "the_women_column  = us_census['FemalePop']\n",
    "the_income_column = us_census['Income']\n",
    "\n",
    "plt.xlabel('FemalePop')\n",
    "plt.ylabel('Income')\n",
    "plt.scatter(x=the_women_column, y=the_income_column, c='blue')\n",
    "plt.show()"
   ]
  },
  {
   "cell_type": "markdown",
   "metadata": {},
   "source": [
    "13.\n",
    "Now, your boss wants you to make a bunch of histograms out of the race data that you have. Look at the .columns again to see what the race categories are."
   ]
  },
  {
   "cell_type": "code",
   "execution_count": 25,
   "metadata": {},
   "outputs": [
    {
     "data": {
      "text/plain": [
       "Index(['State', 'TotalPop', 'Hispanic', 'White', 'Black', 'Native', 'Asian',\n",
       "       'Pacific', 'Income', 'GenderPop', 'MalePop', 'FemalePop'],\n",
       "      dtype='object')"
      ]
     },
     "execution_count": 25,
     "metadata": {},
     "output_type": "execute_result"
    }
   ],
   "source": [
    "us_census.columns"
   ]
  },
  {
   "cell_type": "markdown",
   "metadata": {},
   "source": [
    "14.\n",
    "Try to make a histogram for each one!\n",
    "\n",
    "You will have to get the columns into numerical format, and those percentage signs will have to go.\n",
    "\n",
    "Don’t forget to fill the nan values with something that makes sense! You probably dropped the duplicate rows when making your last graph, but it couldn’t hurt to check for duplicates again."
   ]
  },
  {
   "cell_type": "code",
   "execution_count": 26,
   "metadata": {},
   "outputs": [],
   "source": [
    "# removing '%' from the race columns\n",
    "us_census = us_census.replace({'Hispanic': {'%': ''},\n",
    "                               'White': {'%': ''},\n",
    "                               'Black': {'%': ''},\n",
    "                               'Native': {'%': ''},\n",
    "                               'Asian': {'%': ''},\n",
    "                               'Pacific': {'%': ''}}, regex=True)"
   ]
  },
  {
   "cell_type": "code",
   "execution_count": 27,
   "metadata": {},
   "outputs": [
    {
     "data": {
      "text/plain": [
       "State         object\n",
       "TotalPop       int64\n",
       "Hispanic     float64\n",
       "White        float64\n",
       "Black        float64\n",
       "Native       float64\n",
       "Asian        float64\n",
       "Pacific      float64\n",
       "Income       float64\n",
       "GenderPop     object\n",
       "MalePop        int64\n",
       "FemalePop    float64\n",
       "dtype: object"
      ]
     },
     "execution_count": 27,
     "metadata": {},
     "output_type": "execute_result"
    }
   ],
   "source": [
    "# converting race columns data type into numeric format\n",
    "race_cols = ['Hispanic', 'White', 'Black', 'Native', 'Asian', 'Pacific']\n",
    "us_census[race_cols] = us_census[race_cols].apply(pd.to_numeric)\n",
    "us_census.dtypes"
   ]
  },
  {
   "cell_type": "code",
   "execution_count": 28,
   "metadata": {},
   "outputs": [
    {
     "data": {
      "text/plain": [
       "Hispanic    0\n",
       "White       0\n",
       "Black       0\n",
       "Native      0\n",
       "Asian       0\n",
       "Pacific     4\n",
       "dtype: int64"
      ]
     },
     "execution_count": 28,
     "metadata": {},
     "output_type": "execute_result"
    }
   ],
   "source": [
    "# finding number of NaN values in race_cols\n",
    "us_census[race_cols].isnull().sum()"
   ]
  },
  {
   "cell_type": "code",
   "execution_count": 29,
   "metadata": {},
   "outputs": [],
   "source": [
    "# taking the estimated Pacific population per state\n",
    "est_pacific = 100 + (us_census['Hispanic'] - us_census['Black'] - us_census['White']\\\n",
    "                     - us_census['Asian'] - us_census['Native'])\n",
    "\n",
    "# filling missing value with estimated pacific population\n",
    "us_census['Pacific'].fillna(est_pacific, inplace=True)"
   ]
  },
  {
   "cell_type": "code",
   "execution_count": 30,
   "metadata": {},
   "outputs": [
    {
     "data": {
      "text/plain": [
       "0"
      ]
     },
     "execution_count": 30,
     "metadata": {},
     "output_type": "execute_result"
    }
   ],
   "source": [
    "# finding duplicates if there is any\n",
    "us_census.duplicated().sum()"
   ]
  },
  {
   "cell_type": "code",
   "execution_count": 31,
   "metadata": {},
   "outputs": [
    {
     "data": {
      "image/png": "[encoded data removed]",
      "text/plain": [
       "<Figure size 432x288 with 1 Axes>"
      ]
     },
     "metadata": {},
     "output_type": "display_data"
    }
   ],
   "source": [
    "# histogram graph for the all races per state\n",
    "plt.style.use('fivethirtyeight')\n",
    "\n",
    "hispanicPop = us_census['Hispanic']\n",
    "whitePop = us_census['White']\n",
    "blackPop = us_census['Black']\n",
    "nativePop = us_census['Native']\n",
    "asianPop = us_census['Asian']\n",
    "pacificPop = us_census['Pacific']\n",
    "\n",
    "mybins = [0, 10, 20, 30, 40, 50, 60, 70, 80, 90, 100]\n",
    "\n",
    "plt.hist([hispanicPop, whitePop, blackPop, nativePop, asianPop, pacificPop],\n",
    "         color=['grey', 'red', 'yellow', 'green', 'blue', 'purple'],\n",
    "         label=['Hispanic', 'White', 'Black', 'Native', 'Asian', 'Pacific'],\n",
    "         bins=mybins, edgecolor='black')\n",
    "\n",
    "plt.title('Distribution of Races in US States')\n",
    "plt.legend(loc='best')\n",
    "plt.xlabel('Races')\n",
    "plt.ylabel('Count')\n",
    "plt.show()"
   ]
  },
  {
   "cell_type": "markdown",
   "metadata": {},
   "source": [
    "15.\n",
    "You’ve definitely impressed your boss on your first day of work.\n",
    "\n",
    "But is there a way you really convey the power of pandas and Python over the drudgery of csv and Excel?\n",
    "\n",
    "Try to make some more interesting graphs to show your boss, and the world! You may need to clean the data even more to do it, or the cleaning you have already done may give you the ease of manipulation you’ve been searching for."
   ]
  },
  {
   "cell_type": "markdown",
   "metadata": {},
   "source": [
    "# Part#2:\n",
    "\n",
    "LEARN DATA ANALYSIS WITH PANDAS:\n",
    "Petal Power Inventory You’re the lead data analyst for a chain of gardening stores called Petal Power. Help them analyze their inventory!"
   ]
  },
  {
   "cell_type": "markdown",
   "metadata": {},
   "source": [
    "Answer Customer Emails\n",
    "1. \n",
    "Data for all of the locations of Petal Power is in the file inventory.csv. Load the data into a DataFrame called inventory."
   ]
  },
  {
   "cell_type": "code",
   "execution_count": 32,
   "metadata": {},
   "outputs": [],
   "source": [
    "inventory = pd.read_csv('dataset/inventory.csv')"
   ]
  },
  {
   "cell_type": "markdown",
   "metadata": {},
   "source": [
    "2. Inspect the first 10 rows of inventory."
   ]
  },
  {
   "cell_type": "code",
   "execution_count": 33,
   "metadata": {},
   "outputs": [
    {
     "data": {
      "text/html": [
       "<div>\n",
       "<style scoped>\n",
       "    .dataframe tbody tr th:only-of-type {\n",
       "        vertical-align: middle;\n",
       "    }\n",
       "\n",
       "    .dataframe tbody tr th {\n",
       "        vertical-align: top;\n",
       "    }\n",
       "\n",
       "    .dataframe thead th {\n",
       "        text-align: right;\n",
       "    }\n",
       "</style>\n",
       "<table border=\"1\" class=\"dataframe\">\n",
       "  <thead>\n",
       "    <tr style=\"text-align: right;\">\n",
       "      <th></th>\n",
       "      <th>location</th>\n",
       "      <th>product_type</th>\n",
       "      <th>product_description</th>\n",
       "      <th>quantity</th>\n",
       "      <th>price</th>\n",
       "    </tr>\n",
       "  </thead>\n",
       "  <tbody>\n",
       "    <tr>\n",
       "      <th>0</th>\n",
       "      <td>Staten Island</td>\n",
       "      <td>seeds</td>\n",
       "      <td>daisy</td>\n",
       "      <td>4</td>\n",
       "      <td>6.99</td>\n",
       "    </tr>\n",
       "    <tr>\n",
       "      <th>1</th>\n",
       "      <td>Staten Island</td>\n",
       "      <td>seeds</td>\n",
       "      <td>calla lily</td>\n",
       "      <td>46</td>\n",
       "      <td>19.99</td>\n",
       "    </tr>\n",
       "    <tr>\n",
       "      <th>2</th>\n",
       "      <td>Staten Island</td>\n",
       "      <td>seeds</td>\n",
       "      <td>tomato</td>\n",
       "      <td>85</td>\n",
       "      <td>13.99</td>\n",
       "    </tr>\n",
       "    <tr>\n",
       "      <th>3</th>\n",
       "      <td>Staten Island</td>\n",
       "      <td>garden tools</td>\n",
       "      <td>rake</td>\n",
       "      <td>4</td>\n",
       "      <td>13.99</td>\n",
       "    </tr>\n",
       "    <tr>\n",
       "      <th>4</th>\n",
       "      <td>Staten Island</td>\n",
       "      <td>garden tools</td>\n",
       "      <td>wheelbarrow</td>\n",
       "      <td>0</td>\n",
       "      <td>89.99</td>\n",
       "    </tr>\n",
       "    <tr>\n",
       "      <th>5</th>\n",
       "      <td>Staten Island</td>\n",
       "      <td>garden tools</td>\n",
       "      <td>spade</td>\n",
       "      <td>93</td>\n",
       "      <td>19.99</td>\n",
       "    </tr>\n",
       "    <tr>\n",
       "      <th>6</th>\n",
       "      <td>Staten Island</td>\n",
       "      <td>pest_control</td>\n",
       "      <td>insect killer</td>\n",
       "      <td>74</td>\n",
       "      <td>12.99</td>\n",
       "    </tr>\n",
       "    <tr>\n",
       "      <th>7</th>\n",
       "      <td>Staten Island</td>\n",
       "      <td>pest_control</td>\n",
       "      <td>weed killer</td>\n",
       "      <td>8</td>\n",
       "      <td>23.99</td>\n",
       "    </tr>\n",
       "    <tr>\n",
       "      <th>8</th>\n",
       "      <td>Staten Island</td>\n",
       "      <td>planter</td>\n",
       "      <td>20 inch terracotta planter</td>\n",
       "      <td>0</td>\n",
       "      <td>17.99</td>\n",
       "    </tr>\n",
       "    <tr>\n",
       "      <th>9</th>\n",
       "      <td>Staten Island</td>\n",
       "      <td>planter</td>\n",
       "      <td>8 inch plastic planter</td>\n",
       "      <td>53</td>\n",
       "      <td>3.99</td>\n",
       "    </tr>\n",
       "  </tbody>\n",
       "</table>\n",
       "</div>"
      ],
      "text/plain": [
       "        location  product_type         product_description  quantity  price\n",
       "0  Staten Island         seeds                       daisy         4   6.99\n",
       "1  Staten Island         seeds                  calla lily        46  19.99\n",
       "2  Staten Island         seeds                      tomato        85  13.99\n",
       "3  Staten Island  garden tools                        rake         4  13.99\n",
       "4  Staten Island  garden tools                 wheelbarrow         0  89.99\n",
       "5  Staten Island  garden tools                       spade        93  19.99\n",
       "6  Staten Island  pest_control               insect killer        74  12.99\n",
       "7  Staten Island  pest_control                 weed killer         8  23.99\n",
       "8  Staten Island       planter  20 inch terracotta planter         0  17.99\n",
       "9  Staten Island       planter      8 inch plastic planter        53   3.99"
      ]
     },
     "execution_count": 33,
     "metadata": {},
     "output_type": "execute_result"
    }
   ],
   "source": [
    "inventory.head(10)"
   ]
  },
  {
   "cell_type": "markdown",
   "metadata": {},
   "source": [
    "3.\n",
    "The first 10 rows represent data from your Staten Island location. Select these rows and save them to staten_island."
   ]
  },
  {
   "cell_type": "code",
   "execution_count": 34,
   "metadata": {},
   "outputs": [
    {
     "data": {
      "text/html": [
       "<div>\n",
       "<style scoped>\n",
       "    .dataframe tbody tr th:only-of-type {\n",
       "        vertical-align: middle;\n",
       "    }\n",
       "\n",
       "    .dataframe tbody tr th {\n",
       "        vertical-align: top;\n",
       "    }\n",
       "\n",
       "    .dataframe thead th {\n",
       "        text-align: right;\n",
       "    }\n",
       "</style>\n",
       "<table border=\"1\" class=\"dataframe\">\n",
       "  <thead>\n",
       "    <tr style=\"text-align: right;\">\n",
       "      <th></th>\n",
       "      <th>location</th>\n",
       "      <th>product_type</th>\n",
       "      <th>product_description</th>\n",
       "      <th>quantity</th>\n",
       "      <th>price</th>\n",
       "    </tr>\n",
       "  </thead>\n",
       "  <tbody>\n",
       "    <tr>\n",
       "      <th>0</th>\n",
       "      <td>Staten Island</td>\n",
       "      <td>seeds</td>\n",
       "      <td>daisy</td>\n",
       "      <td>4</td>\n",
       "      <td>6.99</td>\n",
       "    </tr>\n",
       "    <tr>\n",
       "      <th>1</th>\n",
       "      <td>Staten Island</td>\n",
       "      <td>seeds</td>\n",
       "      <td>calla lily</td>\n",
       "      <td>46</td>\n",
       "      <td>19.99</td>\n",
       "    </tr>\n",
       "    <tr>\n",
       "      <th>2</th>\n",
       "      <td>Staten Island</td>\n",
       "      <td>seeds</td>\n",
       "      <td>tomato</td>\n",
       "      <td>85</td>\n",
       "      <td>13.99</td>\n",
       "    </tr>\n",
       "    <tr>\n",
       "      <th>3</th>\n",
       "      <td>Staten Island</td>\n",
       "      <td>garden tools</td>\n",
       "      <td>rake</td>\n",
       "      <td>4</td>\n",
       "      <td>13.99</td>\n",
       "    </tr>\n",
       "    <tr>\n",
       "      <th>4</th>\n",
       "      <td>Staten Island</td>\n",
       "      <td>garden tools</td>\n",
       "      <td>wheelbarrow</td>\n",
       "      <td>0</td>\n",
       "      <td>89.99</td>\n",
       "    </tr>\n",
       "    <tr>\n",
       "      <th>5</th>\n",
       "      <td>Staten Island</td>\n",
       "      <td>garden tools</td>\n",
       "      <td>spade</td>\n",
       "      <td>93</td>\n",
       "      <td>19.99</td>\n",
       "    </tr>\n",
       "    <tr>\n",
       "      <th>6</th>\n",
       "      <td>Staten Island</td>\n",
       "      <td>pest_control</td>\n",
       "      <td>insect killer</td>\n",
       "      <td>74</td>\n",
       "      <td>12.99</td>\n",
       "    </tr>\n",
       "    <tr>\n",
       "      <th>7</th>\n",
       "      <td>Staten Island</td>\n",
       "      <td>pest_control</td>\n",
       "      <td>weed killer</td>\n",
       "      <td>8</td>\n",
       "      <td>23.99</td>\n",
       "    </tr>\n",
       "    <tr>\n",
       "      <th>8</th>\n",
       "      <td>Staten Island</td>\n",
       "      <td>planter</td>\n",
       "      <td>20 inch terracotta planter</td>\n",
       "      <td>0</td>\n",
       "      <td>17.99</td>\n",
       "    </tr>\n",
       "    <tr>\n",
       "      <th>9</th>\n",
       "      <td>Staten Island</td>\n",
       "      <td>planter</td>\n",
       "      <td>8 inch plastic planter</td>\n",
       "      <td>53</td>\n",
       "      <td>3.99</td>\n",
       "    </tr>\n",
       "  </tbody>\n",
       "</table>\n",
       "</div>"
      ],
      "text/plain": [
       "        location  product_type         product_description  quantity  price\n",
       "0  Staten Island         seeds                       daisy         4   6.99\n",
       "1  Staten Island         seeds                  calla lily        46  19.99\n",
       "2  Staten Island         seeds                      tomato        85  13.99\n",
       "3  Staten Island  garden tools                        rake         4  13.99\n",
       "4  Staten Island  garden tools                 wheelbarrow         0  89.99\n",
       "5  Staten Island  garden tools                       spade        93  19.99\n",
       "6  Staten Island  pest_control               insect killer        74  12.99\n",
       "7  Staten Island  pest_control                 weed killer         8  23.99\n",
       "8  Staten Island       planter  20 inch terracotta planter         0  17.99\n",
       "9  Staten Island       planter      8 inch plastic planter        53   3.99"
      ]
     },
     "execution_count": 34,
     "metadata": {},
     "output_type": "execute_result"
    }
   ],
   "source": [
    "staten_island = inventory.loc[0:9,:]\n",
    "staten_island"
   ]
  },
  {
   "cell_type": "markdown",
   "metadata": {},
   "source": [
    "4.\n",
    "A customer just emailed you asking what products are sold at your Staten Island location. Select the column product_description from staten_island and save it to the variable product_request."
   ]
  },
  {
   "cell_type": "code",
   "execution_count": 35,
   "metadata": {},
   "outputs": [
    {
     "data": {
      "text/plain": [
       "0                         daisy\n",
       "1                    calla lily\n",
       "2                        tomato\n",
       "3                          rake\n",
       "4                   wheelbarrow\n",
       "5                         spade\n",
       "6                 insect killer\n",
       "7                   weed killer\n",
       "8    20 inch terracotta planter\n",
       "9        8 inch plastic planter\n",
       "Name: product_description, dtype: object"
      ]
     },
     "execution_count": 35,
     "metadata": {},
     "output_type": "execute_result"
    }
   ],
   "source": [
    "product_request = staten_island.loc[0:9,'product_description']\n",
    "product_request"
   ]
  },
  {
   "cell_type": "markdown",
   "metadata": {},
   "source": [
    "5.\n",
    "Another customer emails to ask what types of seeds are sold at the Brooklyn location.\n",
    "\n",
    "Select all rows where location is equal to Brooklyn and product_type is equal to seeds and save them to the variable seed_request"
   ]
  },
  {
   "cell_type": "code",
   "execution_count": 36,
   "metadata": {},
   "outputs": [
    {
     "data": {
      "text/html": [
       "<div>\n",
       "<style scoped>\n",
       "    .dataframe tbody tr th:only-of-type {\n",
       "        vertical-align: middle;\n",
       "    }\n",
       "\n",
       "    .dataframe tbody tr th {\n",
       "        vertical-align: top;\n",
       "    }\n",
       "\n",
       "    .dataframe thead th {\n",
       "        text-align: right;\n",
       "    }\n",
       "</style>\n",
       "<table border=\"1\" class=\"dataframe\">\n",
       "  <thead>\n",
       "    <tr style=\"text-align: right;\">\n",
       "      <th></th>\n",
       "      <th>location</th>\n",
       "      <th>product_type</th>\n",
       "      <th>product_description</th>\n",
       "      <th>quantity</th>\n",
       "      <th>price</th>\n",
       "    </tr>\n",
       "  </thead>\n",
       "  <tbody>\n",
       "    <tr>\n",
       "      <th>0</th>\n",
       "      <td>Staten Island</td>\n",
       "      <td>seeds</td>\n",
       "      <td>daisy</td>\n",
       "      <td>4</td>\n",
       "      <td>6.99</td>\n",
       "    </tr>\n",
       "    <tr>\n",
       "      <th>1</th>\n",
       "      <td>Staten Island</td>\n",
       "      <td>seeds</td>\n",
       "      <td>calla lily</td>\n",
       "      <td>46</td>\n",
       "      <td>19.99</td>\n",
       "    </tr>\n",
       "    <tr>\n",
       "      <th>2</th>\n",
       "      <td>Staten Island</td>\n",
       "      <td>seeds</td>\n",
       "      <td>tomato</td>\n",
       "      <td>85</td>\n",
       "      <td>13.99</td>\n",
       "    </tr>\n",
       "    <tr>\n",
       "      <th>3</th>\n",
       "      <td>Staten Island</td>\n",
       "      <td>garden tools</td>\n",
       "      <td>rake</td>\n",
       "      <td>4</td>\n",
       "      <td>13.99</td>\n",
       "    </tr>\n",
       "    <tr>\n",
       "      <th>4</th>\n",
       "      <td>Staten Island</td>\n",
       "      <td>garden tools</td>\n",
       "      <td>wheelbarrow</td>\n",
       "      <td>0</td>\n",
       "      <td>89.99</td>\n",
       "    </tr>\n",
       "  </tbody>\n",
       "</table>\n",
       "</div>"
      ],
      "text/plain": [
       "        location  product_type product_description  quantity  price\n",
       "0  Staten Island         seeds               daisy         4   6.99\n",
       "1  Staten Island         seeds          calla lily        46  19.99\n",
       "2  Staten Island         seeds              tomato        85  13.99\n",
       "3  Staten Island  garden tools                rake         4  13.99\n",
       "4  Staten Island  garden tools         wheelbarrow         0  89.99"
      ]
     },
     "execution_count": 36,
     "metadata": {},
     "output_type": "execute_result"
    }
   ],
   "source": [
    "inventory.head()"
   ]
  },
  {
   "cell_type": "code",
   "execution_count": 37,
   "metadata": {},
   "outputs": [
    {
     "data": {
      "text/html": [
       "<div>\n",
       "<style scoped>\n",
       "    .dataframe tbody tr th:only-of-type {\n",
       "        vertical-align: middle;\n",
       "    }\n",
       "\n",
       "    .dataframe tbody tr th {\n",
       "        vertical-align: top;\n",
       "    }\n",
       "\n",
       "    .dataframe thead th {\n",
       "        text-align: right;\n",
       "    }\n",
       "</style>\n",
       "<table border=\"1\" class=\"dataframe\">\n",
       "  <thead>\n",
       "    <tr style=\"text-align: right;\">\n",
       "      <th></th>\n",
       "      <th>location</th>\n",
       "      <th>product_type</th>\n",
       "      <th>product_description</th>\n",
       "      <th>quantity</th>\n",
       "      <th>price</th>\n",
       "    </tr>\n",
       "  </thead>\n",
       "  <tbody>\n",
       "    <tr>\n",
       "      <th>10</th>\n",
       "      <td>Brooklyn</td>\n",
       "      <td>seeds</td>\n",
       "      <td>daisy</td>\n",
       "      <td>50</td>\n",
       "      <td>6.99</td>\n",
       "    </tr>\n",
       "    <tr>\n",
       "      <th>11</th>\n",
       "      <td>Brooklyn</td>\n",
       "      <td>seeds</td>\n",
       "      <td>calla lily</td>\n",
       "      <td>0</td>\n",
       "      <td>19.99</td>\n",
       "    </tr>\n",
       "    <tr>\n",
       "      <th>12</th>\n",
       "      <td>Brooklyn</td>\n",
       "      <td>seeds</td>\n",
       "      <td>tomato</td>\n",
       "      <td>0</td>\n",
       "      <td>13.99</td>\n",
       "    </tr>\n",
       "  </tbody>\n",
       "</table>\n",
       "</div>"
      ],
      "text/plain": [
       "    location product_type product_description  quantity  price\n",
       "10  Brooklyn        seeds               daisy        50   6.99\n",
       "11  Brooklyn        seeds          calla lily         0  19.99\n",
       "12  Brooklyn        seeds              tomato         0  13.99"
      ]
     },
     "execution_count": 37,
     "metadata": {},
     "output_type": "execute_result"
    }
   ],
   "source": [
    "seed_request = inventory.loc[(inventory['location']=='Brooklyn') &\n",
    "                             (inventory['product_type']=='seeds')]\n",
    "seed_request"
   ]
  },
  {
   "cell_type": "markdown",
   "metadata": {},
   "source": [
    "## 6. Add a column to inventory called in_stock which is True if quantity is greater than 0 and False if quantity equals 0."
   ]
  },
  {
   "cell_type": "code",
   "execution_count": 38,
   "metadata": {},
   "outputs": [
    {
     "data": {
      "text/html": [
       "<div>\n",
       "<style scoped>\n",
       "    .dataframe tbody tr th:only-of-type {\n",
       "        vertical-align: middle;\n",
       "    }\n",
       "\n",
       "    .dataframe tbody tr th {\n",
       "        vertical-align: top;\n",
       "    }\n",
       "\n",
       "    .dataframe thead th {\n",
       "        text-align: right;\n",
       "    }\n",
       "</style>\n",
       "<table border=\"1\" class=\"dataframe\">\n",
       "  <thead>\n",
       "    <tr style=\"text-align: right;\">\n",
       "      <th></th>\n",
       "      <th>location</th>\n",
       "      <th>product_type</th>\n",
       "      <th>product_description</th>\n",
       "      <th>quantity</th>\n",
       "      <th>price</th>\n",
       "      <th>in_stock</th>\n",
       "    </tr>\n",
       "  </thead>\n",
       "  <tbody>\n",
       "    <tr>\n",
       "      <th>0</th>\n",
       "      <td>Staten Island</td>\n",
       "      <td>seeds</td>\n",
       "      <td>daisy</td>\n",
       "      <td>4</td>\n",
       "      <td>6.99</td>\n",
       "      <td>True</td>\n",
       "    </tr>\n",
       "    <tr>\n",
       "      <th>1</th>\n",
       "      <td>Staten Island</td>\n",
       "      <td>seeds</td>\n",
       "      <td>calla lily</td>\n",
       "      <td>46</td>\n",
       "      <td>19.99</td>\n",
       "      <td>True</td>\n",
       "    </tr>\n",
       "    <tr>\n",
       "      <th>2</th>\n",
       "      <td>Staten Island</td>\n",
       "      <td>seeds</td>\n",
       "      <td>tomato</td>\n",
       "      <td>85</td>\n",
       "      <td>13.99</td>\n",
       "      <td>True</td>\n",
       "    </tr>\n",
       "    <tr>\n",
       "      <th>3</th>\n",
       "      <td>Staten Island</td>\n",
       "      <td>garden tools</td>\n",
       "      <td>rake</td>\n",
       "      <td>4</td>\n",
       "      <td>13.99</td>\n",
       "      <td>True</td>\n",
       "    </tr>\n",
       "    <tr>\n",
       "      <th>4</th>\n",
       "      <td>Staten Island</td>\n",
       "      <td>garden tools</td>\n",
       "      <td>wheelbarrow</td>\n",
       "      <td>0</td>\n",
       "      <td>89.99</td>\n",
       "      <td>False</td>\n",
       "    </tr>\n",
       "  </tbody>\n",
       "</table>\n",
       "</div>"
      ],
      "text/plain": [
       "        location  product_type product_description  quantity  price  in_stock\n",
       "0  Staten Island         seeds               daisy         4   6.99      True\n",
       "1  Staten Island         seeds          calla lily        46  19.99      True\n",
       "2  Staten Island         seeds              tomato        85  13.99      True\n",
       "3  Staten Island  garden tools                rake         4  13.99      True\n",
       "4  Staten Island  garden tools         wheelbarrow         0  89.99     False"
      ]
     },
     "execution_count": 38,
     "metadata": {},
     "output_type": "execute_result"
    }
   ],
   "source": [
    "inventory['in_stock'] = np.where(inventory['quantity']==0, False, True)\n",
    "inventory.head()"
   ]
  },
  {
   "cell_type": "markdown",
   "metadata": {},
   "source": [
    "## 7. Petal Power wants to know how valuable their current inventory is.\n",
    "\n",
    "Create a column called total_value that is equal to price multiplied by quantity."
   ]
  },
  {
   "cell_type": "code",
   "execution_count": 39,
   "metadata": {},
   "outputs": [
    {
     "data": {
      "text/html": [
       "<div>\n",
       "<style scoped>\n",
       "    .dataframe tbody tr th:only-of-type {\n",
       "        vertical-align: middle;\n",
       "    }\n",
       "\n",
       "    .dataframe tbody tr th {\n",
       "        vertical-align: top;\n",
       "    }\n",
       "\n",
       "    .dataframe thead th {\n",
       "        text-align: right;\n",
       "    }\n",
       "</style>\n",
       "<table border=\"1\" class=\"dataframe\">\n",
       "  <thead>\n",
       "    <tr style=\"text-align: right;\">\n",
       "      <th></th>\n",
       "      <th>location</th>\n",
       "      <th>product_type</th>\n",
       "      <th>product_description</th>\n",
       "      <th>quantity</th>\n",
       "      <th>price</th>\n",
       "      <th>in_stock</th>\n",
       "      <th>total_value</th>\n",
       "    </tr>\n",
       "  </thead>\n",
       "  <tbody>\n",
       "    <tr>\n",
       "      <th>0</th>\n",
       "      <td>Staten Island</td>\n",
       "      <td>seeds</td>\n",
       "      <td>daisy</td>\n",
       "      <td>4</td>\n",
       "      <td>6.99</td>\n",
       "      <td>True</td>\n",
       "      <td>27.96</td>\n",
       "    </tr>\n",
       "    <tr>\n",
       "      <th>1</th>\n",
       "      <td>Staten Island</td>\n",
       "      <td>seeds</td>\n",
       "      <td>calla lily</td>\n",
       "      <td>46</td>\n",
       "      <td>19.99</td>\n",
       "      <td>True</td>\n",
       "      <td>919.54</td>\n",
       "    </tr>\n",
       "    <tr>\n",
       "      <th>2</th>\n",
       "      <td>Staten Island</td>\n",
       "      <td>seeds</td>\n",
       "      <td>tomato</td>\n",
       "      <td>85</td>\n",
       "      <td>13.99</td>\n",
       "      <td>True</td>\n",
       "      <td>1189.15</td>\n",
       "    </tr>\n",
       "    <tr>\n",
       "      <th>3</th>\n",
       "      <td>Staten Island</td>\n",
       "      <td>garden tools</td>\n",
       "      <td>rake</td>\n",
       "      <td>4</td>\n",
       "      <td>13.99</td>\n",
       "      <td>True</td>\n",
       "      <td>55.96</td>\n",
       "    </tr>\n",
       "    <tr>\n",
       "      <th>4</th>\n",
       "      <td>Staten Island</td>\n",
       "      <td>garden tools</td>\n",
       "      <td>wheelbarrow</td>\n",
       "      <td>0</td>\n",
       "      <td>89.99</td>\n",
       "      <td>False</td>\n",
       "      <td>0.00</td>\n",
       "    </tr>\n",
       "  </tbody>\n",
       "</table>\n",
       "</div>"
      ],
      "text/plain": [
       "        location  product_type product_description  quantity  price  in_stock  \\\n",
       "0  Staten Island         seeds               daisy         4   6.99      True   \n",
       "1  Staten Island         seeds          calla lily        46  19.99      True   \n",
       "2  Staten Island         seeds              tomato        85  13.99      True   \n",
       "3  Staten Island  garden tools                rake         4  13.99      True   \n",
       "4  Staten Island  garden tools         wheelbarrow         0  89.99     False   \n",
       "\n",
       "   total_value  \n",
       "0        27.96  \n",
       "1       919.54  \n",
       "2      1189.15  \n",
       "3        55.96  \n",
       "4         0.00  "
      ]
     },
     "execution_count": 39,
     "metadata": {},
     "output_type": "execute_result"
    }
   ],
   "source": [
    "inventory['total_value'] = inventory['price'] * inventory['quantity']\n",
    "inventory.head()"
   ]
  },
  {
   "cell_type": "markdown",
   "metadata": {},
   "source": [
    "8.\n",
    "The Marketing department wants a complete description of each product for their catalog.\n",
    "\n",
    "The following lambda function combines product_type and product_description into a single string:\n",
    "\n",
    "combine_lambda = lambda row:\n",
    "'{} - {}'.format(row.product_type, row.product_description)"
   ]
  },
  {
   "cell_type": "code",
   "execution_count": 40,
   "metadata": {},
   "outputs": [
    {
     "data": {
      "text/plain": [
       "<function __main__.<lambda>(row)>"
      ]
     },
     "execution_count": 40,
     "metadata": {},
     "output_type": "execute_result"
    }
   ],
   "source": [
    "combine_lambda = lambda row:'{}-{}'.format(row.product_type, row.product_description)\n",
    "combine_lambda"
   ]
  },
  {
   "cell_type": "markdown",
   "metadata": {},
   "source": [
    "9.\n",
    "Using combine_lambda, create a new column in inventory called full_description that has the complete description of each product."
   ]
  },
  {
   "cell_type": "code",
   "execution_count": 41,
   "metadata": {},
   "outputs": [
    {
     "data": {
      "text/html": [
       "<div>\n",
       "<style scoped>\n",
       "    .dataframe tbody tr th:only-of-type {\n",
       "        vertical-align: middle;\n",
       "    }\n",
       "\n",
       "    .dataframe tbody tr th {\n",
       "        vertical-align: top;\n",
       "    }\n",
       "\n",
       "    .dataframe thead th {\n",
       "        text-align: right;\n",
       "    }\n",
       "</style>\n",
       "<table border=\"1\" class=\"dataframe\">\n",
       "  <thead>\n",
       "    <tr style=\"text-align: right;\">\n",
       "      <th></th>\n",
       "      <th>location</th>\n",
       "      <th>product_type</th>\n",
       "      <th>product_description</th>\n",
       "      <th>quantity</th>\n",
       "      <th>price</th>\n",
       "      <th>in_stock</th>\n",
       "      <th>total_value</th>\n",
       "      <th>full_description</th>\n",
       "    </tr>\n",
       "  </thead>\n",
       "  <tbody>\n",
       "    <tr>\n",
       "      <th>0</th>\n",
       "      <td>Staten Island</td>\n",
       "      <td>seeds</td>\n",
       "      <td>daisy</td>\n",
       "      <td>4</td>\n",
       "      <td>6.99</td>\n",
       "      <td>True</td>\n",
       "      <td>27.96</td>\n",
       "      <td>seeds-daisy</td>\n",
       "    </tr>\n",
       "    <tr>\n",
       "      <th>1</th>\n",
       "      <td>Staten Island</td>\n",
       "      <td>seeds</td>\n",
       "      <td>calla lily</td>\n",
       "      <td>46</td>\n",
       "      <td>19.99</td>\n",
       "      <td>True</td>\n",
       "      <td>919.54</td>\n",
       "      <td>seeds-calla lily</td>\n",
       "    </tr>\n",
       "    <tr>\n",
       "      <th>2</th>\n",
       "      <td>Staten Island</td>\n",
       "      <td>seeds</td>\n",
       "      <td>tomato</td>\n",
       "      <td>85</td>\n",
       "      <td>13.99</td>\n",
       "      <td>True</td>\n",
       "      <td>1189.15</td>\n",
       "      <td>seeds-tomato</td>\n",
       "    </tr>\n",
       "    <tr>\n",
       "      <th>3</th>\n",
       "      <td>Staten Island</td>\n",
       "      <td>garden tools</td>\n",
       "      <td>rake</td>\n",
       "      <td>4</td>\n",
       "      <td>13.99</td>\n",
       "      <td>True</td>\n",
       "      <td>55.96</td>\n",
       "      <td>garden tools-rake</td>\n",
       "    </tr>\n",
       "    <tr>\n",
       "      <th>4</th>\n",
       "      <td>Staten Island</td>\n",
       "      <td>garden tools</td>\n",
       "      <td>wheelbarrow</td>\n",
       "      <td>0</td>\n",
       "      <td>89.99</td>\n",
       "      <td>False</td>\n",
       "      <td>0.00</td>\n",
       "      <td>garden tools-wheelbarrow</td>\n",
       "    </tr>\n",
       "  </tbody>\n",
       "</table>\n",
       "</div>"
      ],
      "text/plain": [
       "        location  product_type product_description  quantity  price  in_stock  \\\n",
       "0  Staten Island         seeds               daisy         4   6.99      True   \n",
       "1  Staten Island         seeds          calla lily        46  19.99      True   \n",
       "2  Staten Island         seeds              tomato        85  13.99      True   \n",
       "3  Staten Island  garden tools                rake         4  13.99      True   \n",
       "4  Staten Island  garden tools         wheelbarrow         0  89.99     False   \n",
       "\n",
       "   total_value          full_description  \n",
       "0        27.96               seeds-daisy  \n",
       "1       919.54          seeds-calla lily  \n",
       "2      1189.15              seeds-tomato  \n",
       "3        55.96         garden tools-rake  \n",
       "4         0.00  garden tools-wheelbarrow  "
      ]
     },
     "execution_count": 41,
     "metadata": {},
     "output_type": "execute_result"
    }
   ],
   "source": [
    "inventory['full_description'] = inventory[['product_type', 'product_description']].apply(combine_lambda, axis=1)\n",
    "inventory.head()"
   ]
  },
  {
   "cell_type": "code",
   "execution_count": null,
   "metadata": {},
   "outputs": [],
   "source": []
  },
  {
   "cell_type": "code",
   "execution_count": null,
   "metadata": {},
   "outputs": [],
   "source": []
  }
 ],
 "metadata": {
  "kernelspec": {
   "display_name": "Python 3",
   "language": "python",
   "name": "python3"
  },
  "language_info": {
   "codemirror_mode": {
    "name": "ipython",
    "version": 3
   },
   "file_extension": ".py",
   "mimetype": "text/x-python",
   "name": "python",
   "nbconvert_exporter": "python",
   "pygments_lexer": "ipython3",
   "version": "3.8.5"
  }
 },
 "nbformat": 4,
 "nbformat_minor": 4
}
